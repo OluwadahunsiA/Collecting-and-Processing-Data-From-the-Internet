{
 "cells": [
  {
   "cell_type": "code",
   "execution_count": null,
   "metadata": {
    "ExecuteTime": {
     "end_time": "2021-08-12T08:58:04.244232Z",
     "start_time": "2021-08-12T08:58:02.259921Z"
    }
   },
   "outputs": [],
   "source": [
    "import os\n",
    "import time\n",
    "from selenium import webdriver\n",
    "from selenium.webdriver.chrome.options import Options\n",
    "from selenium.webdriver.common.keys import Keys\n",
    "from selenium.webdriver.support.ui import WebDriverWait\n",
    "from selenium.webdriver.support import expected_conditions as EC\n",
    "from selenium.webdriver.common.by import By\n",
    "from selenium.webdriver.common.action_chains import ActionChains\n",
    "from pymongo import MongoClient\n",
    "from uri import uri\n",
    "from password import password"
   ]
  },
  {
   "cell_type": "code",
   "execution_count": null,
   "metadata": {},
   "outputs": [],
   "source": [
    "Login = \"study.ai_172@mail.ru\"\n",
    "password =  password\n",
    "split_login = Login.split('@')[0]"
   ]
  },
  {
   "cell_type": "code",
   "execution_count": null,
   "metadata": {},
   "outputs": [],
   "source": [
    "chrome_options = Options()\n",
    "chrome_options.add_argument(\"--start-fullscreen\")"
   ]
  },
  {
   "cell_type": "code",
   "execution_count": null,
   "metadata": {},
   "outputs": [],
   "source": [
    "driver = webdriver.Chrome(\n",
    "    executable_path=os.popen('which chromedriver').read().strip(),\n",
    "    options=chrome_options)"
   ]
  },
  {
   "cell_type": "code",
   "execution_count": null,
   "metadata": {},
   "outputs": [],
   "source": [
    "driver.get('https://mail.ru')"
   ]
  },
  {
   "cell_type": "code",
   "execution_count": null,
   "metadata": {},
   "outputs": [],
   "source": [
    "Fill_login = driver.find_element_by_xpath('//input[@name=\"login\"]')"
   ]
  },
  {
   "cell_type": "code",
   "execution_count": null,
   "metadata": {},
   "outputs": [],
   "source": [
    "Fill_login.send_keys(split_login)\n",
    "Fill_login.send_keys(Keys.ENTER)"
   ]
  },
  {
   "cell_type": "code",
   "execution_count": null,
   "metadata": {},
   "outputs": [],
   "source": [
    "time.sleep(2)"
   ]
  },
  {
   "cell_type": "code",
   "execution_count": null,
   "metadata": {},
   "outputs": [],
   "source": [
    "Fill_password = driver.find_element_by_xpath('//input[@type=\"password\"]')\n",
    "Fill_password.send_keys(password)\n",
    "Fill_password.send_keys(Keys.ENTER)"
   ]
  },
  {
   "cell_type": "code",
   "execution_count": null,
   "metadata": {},
   "outputs": [],
   "source": [
    "wait_period = WebDriverWait(driver,15)\n",
    "wait_period.until(EC.element_to_be_clickable((By.CLASS_NAME, 'js-tooltip-direction_letter-bottom')))"
   ]
  },
  {
   "cell_type": "code",
   "execution_count": null,
   "metadata": {},
   "outputs": [],
   "source": [
    "Total_email = set()"
   ]
  },
  {
   "cell_type": "code",
   "execution_count": null,
   "metadata": {},
   "outputs": [],
   "source": [
    "while True:\n",
    "    current_length = len(Total_email)\n",
    "    get_links = driver.find_elements_by_class_name('js-tooltip-direction_letter-bottom')\n",
    "    \n",
    "    for link in get_links:\n",
    "        Total_email.add(link.get_attribute('href'))\n",
    "        \n",
    "    actions = ActionChains(driver)\n",
    "    actions.move_to_element(get_links[-1])\n",
    "    actions.perform()\n",
    "    \n",
    "    if len(Total_email) == current_length:\n",
    "        break"
   ]
  },
  {
   "cell_type": "code",
   "execution_count": null,
   "metadata": {},
   "outputs": [],
   "source": [
    "uri = uri\n",
    "client = MongoClient(uri,27017)\n",
    "db = client[\"task\"]\n",
    "mail = db['email']"
   ]
  },
  {
   "cell_type": "code",
   "execution_count": null,
   "metadata": {},
   "outputs": [],
   "source": [
    "for link in Total_email:\n",
    "    driver.get(link)\n",
    "    \n",
    "    wait = WebDriverWait(driver,10)\n",
    "    sender = wait.until(EC.presence_of_element_located((By.CLASS_NAME, 'letter-contact')))\n",
    "    \n",
    "    info = {\n",
    "        'from':sender.get_attribute('title'),\n",
    "        'date':driver.find_element_by_xpath('//div[@class=\"letter__date\"]').text,\n",
    "        'title':driver.find_element_by_xpath('//h2[@class=\"thread__subject\"]').text,\n",
    "        'message':driver.find_element_by_xpath('//div[@class=\"letter-body__body\"]').text,\n",
    "        'link':link\n",
    "    }\n",
    "    \n",
    "    mail.update_one(\n",
    "        {'link':info['link']},\n",
    "        {'$set':info},upsert = True\n",
    "    )\n",
    "    "
   ]
  }
 ],
 "metadata": {
  "kernelspec": {
   "display_name": "Python 3",
   "language": "python",
   "name": "python3"
  },
  "language_info": {
   "codemirror_mode": {
    "name": "ipython",
    "version": 3
   },
   "file_extension": ".py",
   "mimetype": "text/x-python",
   "name": "python",
   "nbconvert_exporter": "python",
   "pygments_lexer": "ipython3",
   "version": "3.7.4"
  },
  "toc": {
   "base_numbering": 1,
   "nav_menu": {},
   "number_sections": true,
   "sideBar": true,
   "skip_h1_title": false,
   "title_cell": "Table of Contents",
   "title_sidebar": "Contents",
   "toc_cell": false,
   "toc_position": {},
   "toc_section_display": true,
   "toc_window_display": false
  },
  "varInspector": {
   "cols": {
    "lenName": 16,
    "lenType": 16,
    "lenVar": 40
   },
   "kernels_config": {
    "python": {
     "delete_cmd_postfix": "",
     "delete_cmd_prefix": "del ",
     "library": "var_list.py",
     "varRefreshCmd": "print(var_dic_list())"
    },
    "r": {
     "delete_cmd_postfix": ") ",
     "delete_cmd_prefix": "rm(",
     "library": "var_list.r",
     "varRefreshCmd": "cat(var_dic_list()) "
    }
   },
   "types_to_exclude": [
    "module",
    "function",
    "builtin_function_or_method",
    "instance",
    "_Feature"
   ],
   "window_display": false
  }
 },
 "nbformat": 4,
 "nbformat_minor": 2
}
