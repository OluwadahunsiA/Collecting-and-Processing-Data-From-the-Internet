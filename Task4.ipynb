{
 "cells": [
  {
   "cell_type": "code",
   "execution_count": 71,
   "metadata": {
    "ExecuteTime": {
     "end_time": "2021-08-09T11:31:19.440667Z",
     "start_time": "2021-08-09T11:31:18.799809Z"
    }
   },
   "outputs": [],
   "source": [
    "from lxml import html \n",
    "import requests\n",
    "from datetime import datetime\n",
    "from pymongo import MongoClient"
   ]
  },
  {
   "cell_type": "code",
   "execution_count": 24,
   "metadata": {
    "ExecuteTime": {
     "end_time": "2021-08-09T10:10:10.085875Z",
     "start_time": "2021-08-09T10:10:10.071226Z"
    }
   },
   "outputs": [],
   "source": [
    "from uri import uri"
   ]
  },
  {
   "cell_type": "code",
   "execution_count": 25,
   "metadata": {
    "ExecuteTime": {
     "end_time": "2021-08-09T10:10:10.319935Z",
     "start_time": "2021-08-09T10:10:10.314311Z"
    }
   },
   "outputs": [],
   "source": [
    "headers = {\n",
    "    'User-Agent': \"Mozilla/5.0 (Macintosh; Intel Mac OS X 10_15_6) AppleWebKit/537.36 (KHTML, like Gecko) Chrome/92.0.4515.131 Safari/537.36\"}"
   ]
  },
  {
   "cell_type": "code",
   "execution_count": 79,
   "metadata": {
    "ExecuteTime": {
     "end_time": "2021-08-09T11:34:49.642075Z",
     "start_time": "2021-08-09T11:34:49.629142Z"
    }
   },
   "outputs": [],
   "source": [
    "def mail_news():\n",
    "    total_news = []\n",
    "    \n",
    "    headers = {\n",
    "    'User-Agent': \"Mozilla/5.0 (Macintosh; Intel Mac OS X 10_15_6) AppleWebKit/537.36 (KHTML, like Gecko) Chrome/92.0.4515.131 Safari/537.36\"}\n",
    "    \n",
    "    url = \"https://news.mail.ru\"\n",
    "    \n",
    "    response = requests.get(url, headers=headers)\n",
    "    dom = html.fromstring(response.text)\n",
    "    \n",
    "    first_needed_links = dom.xpath(\"//div[contains(@class, 'daynews__item')]//@href\")\n",
    "    second_needed_links = dom.xpath(\"// div[contains(@class, 'daynews js-topnews margin_bottom_30 js-smoky-end')]/following-sibling::ul/li[@class = 'list__item']//@href\")\n",
    "\n",
    "    total_links = first_needed_links + second_needed_links\n",
    "    \n",
    "    for link in total_links:\n",
    "        response = requests.get(link,headers = headers)\n",
    "        innerdom = html.fromstring(response.text)\n",
    "    \n",
    "        source = innerdom.xpath(\"//span[text()[contains(.,'источник')]]/following-sibling::a//text()\")[0]\n",
    "        news_heading = innerdom.xpath(\"//h1[contains(@class, 'hdr__inner')]//text()\")[0]\n",
    "        publication_date = innerdom.xpath(\"//span[contains(@class,'note')]//span[@datetime]/@datetime\")[0]\n",
    "    \n",
    "        news = {\n",
    "        'title': news_heading,\n",
    "        'source': source,\n",
    "        'publication_date':publication_date,\n",
    "        'link':link\n",
    "        }\n",
    "    \n",
    "    \n",
    "        total_news.append(news)\n",
    "        \n",
    "    uri = uri\n",
    "    client = MongoClient(uri,27017)\n",
    "    db = client[\"users2907\"]\n",
    "    db.news.insert_many(total_news)\n",
    "    \n",
    "   \n",
    "    \n",
    "    "
   ]
  },
  {
   "cell_type": "code",
   "execution_count": 81,
   "metadata": {
    "ExecuteTime": {
     "end_time": "2021-08-09T11:36:35.901424Z",
     "start_time": "2021-08-09T11:36:31.226662Z"
    }
   },
   "outputs": [],
   "source": [
    "mail_news()"
   ]
  },
  {
   "cell_type": "code",
   "execution_count": null,
   "metadata": {},
   "outputs": [],
   "source": []
  }
 ],
 "metadata": {
  "kernelspec": {
   "display_name": "Python 3",
   "language": "python",
   "name": "python3"
  },
  "language_info": {
   "codemirror_mode": {
    "name": "ipython",
    "version": 3
   },
   "file_extension": ".py",
   "mimetype": "text/x-python",
   "name": "python",
   "nbconvert_exporter": "python",
   "pygments_lexer": "ipython3",
   "version": "3.7.4"
  },
  "toc": {
   "base_numbering": 1,
   "nav_menu": {},
   "number_sections": true,
   "sideBar": true,
   "skip_h1_title": false,
   "title_cell": "Table of Contents",
   "title_sidebar": "Contents",
   "toc_cell": false,
   "toc_position": {},
   "toc_section_display": true,
   "toc_window_display": false
  },
  "varInspector": {
   "cols": {
    "lenName": 16,
    "lenType": 16,
    "lenVar": 40
   },
   "kernels_config": {
    "python": {
     "delete_cmd_postfix": "",
     "delete_cmd_prefix": "del ",
     "library": "var_list.py",
     "varRefreshCmd": "print(var_dic_list())"
    },
    "r": {
     "delete_cmd_postfix": ") ",
     "delete_cmd_prefix": "rm(",
     "library": "var_list.r",
     "varRefreshCmd": "cat(var_dic_list()) "
    }
   },
   "types_to_exclude": [
    "module",
    "function",
    "builtin_function_or_method",
    "instance",
    "_Feature"
   ],
   "window_display": false
  }
 },
 "nbformat": 4,
 "nbformat_minor": 2
}
